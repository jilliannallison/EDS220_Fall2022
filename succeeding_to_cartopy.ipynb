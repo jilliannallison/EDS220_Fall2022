{
 "cells": [
  {
   "cell_type": "code",
   "execution_count": 3,
   "id": "d8eeed36-f99d-41d4-9baa-2893c809e0da",
   "metadata": {},
   "outputs": [],
   "source": [
    "import netCDF4 as nc\n",
    "import numpy as np\n",
    "import matplotlib.pyplot as plt\n",
    "import cartopy\n",
    "import cartopy.crs as ccrs"
   ]
  },
  {
   "cell_type": "code",
   "execution_count": 4,
   "id": "de3f7574-d416-4b32-8746-f3746cd358f0",
   "metadata": {},
   "outputs": [],
   "source": [
    "precip = nc.Dataset(\"/Users/jilliannallison/eds-220/EDS220_Fall2022/precip_data.nc\")"
   ]
  },
  {
   "cell_type": "code",
   "execution_count": 5,
   "id": "83089bf9-805c-431d-b99e-b321294f339d",
   "metadata": {},
   "outputs": [
    {
     "data": {
      "text/plain": [
       "OrderedDict([('longitude',\n",
       "              <class 'netCDF4._netCDF4.Variable'>\n",
       "              float32 longitude(longitude)\n",
       "                  units: degrees_east\n",
       "                  long_name: longitude\n",
       "              unlimited dimensions: \n",
       "              current shape = (7,)\n",
       "              filling on, default _FillValue of 9.969209968386869e+36 used),\n",
       "             ('latitude',\n",
       "              <class 'netCDF4._netCDF4.Variable'>\n",
       "              float32 latitude(latitude)\n",
       "                  units: degrees_north\n",
       "                  long_name: latitude\n",
       "              unlimited dimensions: \n",
       "              current shape = (6,)\n",
       "              filling on, default _FillValue of 9.969209968386869e+36 used),\n",
       "             ('time',\n",
       "              <class 'netCDF4._netCDF4.Variable'>\n",
       "              int32 time(time)\n",
       "                  units: hours since 1900-01-01 00:00:00.0\n",
       "                  long_name: time\n",
       "                  calendar: gregorian\n",
       "              unlimited dimensions: \n",
       "              current shape = (24,)\n",
       "              filling on, default _FillValue of -2147483647 used),\n",
       "             ('tp',\n",
       "              <class 'netCDF4._netCDF4.Variable'>\n",
       "              int16 tp(time, latitude, longitude)\n",
       "                  scale_factor: 1.3899898117214682e-07\n",
       "                  add_offset: 0.004562546848776015\n",
       "                  _FillValue: -32767\n",
       "                  missing_value: -32767\n",
       "                  units: m\n",
       "                  long_name: Total precipitation\n",
       "              unlimited dimensions: \n",
       "              current shape = (24, 6, 7)\n",
       "              filling on)])"
      ]
     },
     "execution_count": 5,
     "metadata": {},
     "output_type": "execute_result"
    }
   ],
   "source": [
    "precip.variables"
   ]
  },
  {
   "cell_type": "code",
   "execution_count": 6,
   "id": "86a94ba3-552a-4117-b153-e4ca48005e09",
   "metadata": {},
   "outputs": [
    {
     "data": {
      "text/plain": [
       "<class 'netCDF4._netCDF4.Dataset'>\n",
       "root group (NETCDF3_64BIT_OFFSET data model, file format NETCDF3):\n",
       "    Conventions: CF-1.6\n",
       "    history: 2022-11-04 02:33:08 GMT by grib_to_netcdf-2.25.1: /opt/ecmwf/mars-client/bin/grib_to_netcdf.bin -S param -o /cache/data4/adaptor.mars.internal-1667529188.2819111-24014-2-31eda61d-58c5-492a-82cc-4edb395689ca.nc /cache/tmp/31eda61d-58c5-492a-82cc-4edb395689ca-adaptor.mars.internal-1667529185.6998148-24014-3-tmp.grib\n",
       "    dimensions(sizes): longitude(7), latitude(6), time(24)\n",
       "    variables(dimensions): float32 \u001b[4mlongitude\u001b[0m(longitude), float32 \u001b[4mlatitude\u001b[0m(latitude), int32 \u001b[4mtime\u001b[0m(time), int16 \u001b[4mtp\u001b[0m(time,latitude,longitude)\n",
       "    groups: "
      ]
     },
     "execution_count": 6,
     "metadata": {},
     "output_type": "execute_result"
    }
   ],
   "source": [
    "precip"
   ]
  },
  {
   "cell_type": "code",
   "execution_count": 26,
   "id": "b4a6ef91-1534-42c5-ab8d-4b4ef72d9d79",
   "metadata": {},
   "outputs": [
    {
     "name": "stderr",
     "output_type": "stream",
     "text": [
      "/tmp/ipykernel_3044261/782438555.py:1: DeprecationWarning: `np.bool` is a deprecated alias for the builtin `bool`. To silence this warning, use `bool` by itself. Doing this will not modify any behavior and is safe. If you specifically wanted the numpy scalar type, use `np.bool_` here.\n",
      "Deprecated in NumPy 1.20; for more details and guidance: https://numpy.org/devdocs/release/1.20.0-notes.html#deprecations\n",
      "  lon = precip.variables['longitude'][:]\n",
      "/tmp/ipykernel_3044261/782438555.py:2: DeprecationWarning: `np.bool` is a deprecated alias for the builtin `bool`. To silence this warning, use `bool` by itself. Doing this will not modify any behavior and is safe. If you specifically wanted the numpy scalar type, use `np.bool_` here.\n",
      "Deprecated in NumPy 1.20; for more details and guidance: https://numpy.org/devdocs/release/1.20.0-notes.html#deprecations\n",
      "  lat = precip.variables['latitude'][:]\n",
      "/tmp/ipykernel_3044261/782438555.py:3: DeprecationWarning: `np.bool` is a deprecated alias for the builtin `bool`. To silence this warning, use `bool` by itself. Doing this will not modify any behavior and is safe. If you specifically wanted the numpy scalar type, use `np.bool_` here.\n",
      "Deprecated in NumPy 1.20; for more details and guidance: https://numpy.org/devdocs/release/1.20.0-notes.html#deprecations\n",
      "  data = precip.variables['tp'][0,:,:]\n",
      "/tmp/ipykernel_3044261/782438555.py:4: DeprecationWarning: `np.bool` is a deprecated alias for the builtin `bool`. To silence this warning, use `bool` by itself. Doing this will not modify any behavior and is safe. If you specifically wanted the numpy scalar type, use `np.bool_` here.\n",
      "Deprecated in NumPy 1.20; for more details and guidance: https://numpy.org/devdocs/release/1.20.0-notes.html#deprecations\n",
      "  time = nc.num2date(precip.variables['time'][:],\n"
     ]
    }
   ],
   "source": [
    "lon = precip.variables['longitude'][:]\n",
    "lat = precip.variables['latitude'][:]\n",
    "data = precip.variables['tp'][0,:,:]\n",
    "time = nc.num2date(precip.variables['time'][:],\n",
    "                    units='milliseconds since 1970-01-01T00:00:00',\n",
    "                  calendar = 'standard')"
   ]
  },
  {
   "cell_type": "code",
   "execution_count": 27,
   "id": "b40fea56-e772-4619-aeea-bf0757934628",
   "metadata": {},
   "outputs": [],
   "source": [
    "lon2d, lat2d = np.meshgrid(lon, lat)"
   ]
  },
  {
   "cell_type": "code",
   "execution_count": 28,
   "id": "cc3432da-c34f-493a-a319-fc02dbc7f91e",
   "metadata": {},
   "outputs": [
    {
     "data": {
      "text/plain": [
       "<cartopy.mpl.contour.GeoContourSet at 0x7f27cce9de50>"
      ]
     },
     "execution_count": 28,
     "metadata": {},
     "output_type": "execute_result"
    },
    {
     "data": {
      "image/png": "[encoded data removed]",
      "text/plain": [
       "<Figure size 640x480 with 1 Axes>"
      ]
     },
     "metadata": {},
     "output_type": "display_data"
    }
   ],
   "source": [
    "plt.figure()\n",
    "ax = plt.axes(projection=ccrs.PlateCarree())\n",
    "ax.set_extent([-121.25,-122.75,36.75,38])\n",
    "ax.coastlines()\n",
    "# Add coloring for ocean\n",
    "ax.add_feature(cartopy.feature.OCEAN)\n",
    "# Add coloring for land\n",
    "ax.add_feature(cartopy.feature.LAND)\n",
    "ax.contourf(lon2d, lat2d, data, transform = ccrs.PlateCarree())"
   ]
  },
  {
   "cell_type": "code",
   "execution_count": null,
   "id": "e1a962ab-ad78-4ef8-8bf4-6e2b7ae6aaad",
   "metadata": {},
   "outputs": [],
   "source": []
  }
 ],
 "metadata": {
  "kernelspec": {
   "display_name": "carto",
   "language": "python",
   "name": "carto"
  },
  "language_info": {
   "codemirror_mode": {
    "name": "ipython",
    "version": 3
   },
   "file_extension": ".py",
   "mimetype": "text/x-python",
   "name": "python",
   "nbconvert_exporter": "python",
   "pygments_lexer": "ipython3",
   "version": "3.8.13"
  }
 },
 "nbformat": 4,
 "nbformat_minor": 5
}
